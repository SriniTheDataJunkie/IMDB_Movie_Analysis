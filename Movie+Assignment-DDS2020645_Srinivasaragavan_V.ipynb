{
 "cells": [
  {
   "cell_type": "code",
   "execution_count": null,
   "metadata": {},
   "outputs": [],
   "source": [
    "# Supress Warnings\n",
    "\n",
    "import warnings\n",
    "warnings.filterwarnings('ignore')"
   ]
  },
  {
   "cell_type": "code",
   "execution_count": null,
   "metadata": {},
   "outputs": [],
   "source": [
    "# Import the numpy and pandas packages and set options for scrolling the dataframe\n",
    "\n",
    "import numpy as np\n",
    "import pandas as pd\n",
    "import matplotlib.pyplot as plt\n",
    "import seaborn as sns\n",
    "#pd.set_option(\"display.max_rows\", None)\n"
   ]
  },
  {
   "cell_type": "markdown",
   "metadata": {},
   "source": [
    "## Task 1: Reading and Inspection\n",
    "\n",
    "-  ### Subtask 1.1: Import and read\n",
    "\n",
    "Import and read the movie database. Store it in a variable called `movies`."
   ]
  },
  {
   "cell_type": "code",
   "execution_count": null,
   "metadata": {},
   "outputs": [],
   "source": [
    "#Read the input csv from the file path in the local computer\n",
    "movies = pd.read_csv(r'C:\\Users\\91948\\Desktop\\Upgrad_Python\\Jupyter Notebooks\\Assignment_IMDB\\Movie+Assignment+Data.csv') \n",
    "movies"
   ]
  },
  {
   "cell_type": "markdown",
   "metadata": {},
   "source": [
    "-  ### Subtask 1.2: Inspect the dataframe\n",
    "\n",
    "Inspect the dataframe's columns, shapes, variable types etc."
   ]
  },
  {
   "cell_type": "code",
   "execution_count": null,
   "metadata": {},
   "outputs": [],
   "source": [
    "#To check the number of Rows and Columns of the data frame \n",
    "movies.shape"
   ]
  },
  {
   "cell_type": "code",
   "execution_count": null,
   "metadata": {},
   "outputs": [],
   "source": [
    "#To check the list of Columns in the Dataframe \n",
    "movies.columns"
   ]
  },
  {
   "cell_type": "code",
   "execution_count": null,
   "metadata": {},
   "outputs": [],
   "source": [
    "#to check the max , percentage of data and the stats of the column data \n",
    "movies.describe()"
   ]
  },
  {
   "cell_type": "code",
   "execution_count": null,
   "metadata": {},
   "outputs": [],
   "source": [
    "#to check the data type data type and the collumn type and the stats of column \n",
    "movies.info()"
   ]
  },
  {
   "cell_type": "markdown",
   "metadata": {},
   "source": [
    "## Task 2: Cleaning the Data\n",
    "\n",
    "-  ### Subtask 2.1: Inspect Null values\n",
    "\n",
    "Find out the number of Null values in all the columns and rows. Also, find the percentage of Null values in each column. Round off the percentages upto two decimal places."
   ]
  },
  {
   "cell_type": "code",
   "execution_count": null,
   "metadata": {},
   "outputs": [],
   "source": [
    "# Write your code for column-wise null count here\n",
    "movies.isnull().sum(axis=0)"
   ]
  },
  {
   "cell_type": "code",
   "execution_count": null,
   "metadata": {},
   "outputs": [],
   "source": [
    "# Write your code for row-wise null count here\n",
    "movies.isnull().sum(axis=1)\n"
   ]
  },
  {
   "cell_type": "code",
   "execution_count": null,
   "metadata": {},
   "outputs": [],
   "source": [
    "# Write your code for column-wise null percentages here\n",
    "percentage_miss_columns=movies.isnull().sum() * 100 / len(movies)\n",
    "\n",
    "percentage_miss_columns"
   ]
  },
  {
   "cell_type": "markdown",
   "metadata": {},
   "source": [
    "-  ### Subtask 2.2: Drop unecessary columns\n",
    "\n",
    "For this assignment, you will mostly be analyzing the movies with respect to the ratings, gross collection, popularity of movies, etc. So many of the columns in this dataframe are not required. So it is advised to drop the following columns.\n",
    "-  color\n",
    "-  director_facebook_likes\n",
    "-  actor_1_facebook_likes\n",
    "-  actor_2_facebook_likes\n",
    "-  actor_3_facebook_likes\n",
    "-  actor_2_name\n",
    "-  cast_total_facebook_likes\n",
    "-  actor_3_name\n",
    "-  duration\n",
    "-  facenumber_in_poster\n",
    "-  content_rating\n",
    "-  country\n",
    "-  movie_imdb_link\n",
    "-  aspect_ratio\n",
    "-  plot_keywords"
   ]
  },
  {
   "cell_type": "code",
   "execution_count": null,
   "metadata": {},
   "outputs": [],
   "source": [
    "# Write your code for dropping the columns here. It is advised to keep inspecting the dataframe after each set of operations \n",
    "movies.drop(['color','director_facebook_likes','actor_1_facebook_likes','actor_2_facebook_likes','actor_3_facebook_likes','actor_2_name','cast_total_facebook_likes','actor_3_name','duration','facenumber_in_poster','content_rating','country','movie_imdb_link','aspect_ratio','plot_keywords',], inplace=True, axis=1)\n"
   ]
  },
  {
   "cell_type": "code",
   "execution_count": null,
   "metadata": {},
   "outputs": [],
   "source": [
    "#check columns stats after dropping unwanted columns \n",
    "movies.info()"
   ]
  },
  {
   "cell_type": "code",
   "execution_count": null,
   "metadata": {},
   "outputs": [],
   "source": [
    "#Check the new shape after dropping the unwanted columns where new rows and columns are obtained \n",
    "movies.shape"
   ]
  },
  {
   "cell_type": "code",
   "execution_count": null,
   "metadata": {},
   "outputs": [],
   "source": [
    "#Check new data max min and percentage and stastics of the data  based on column altered \n",
    "movies.describe()"
   ]
  },
  {
   "cell_type": "markdown",
   "metadata": {},
   "source": [
    "-  ### Subtask 2.3: Drop unecessary rows using columns with high Null percentages\n",
    "\n",
    "Now, on inspection you might notice that some columns have large percentage (greater than 5%) of Null values. Drop all the rows which have Null values for such columns."
   ]
  },
  {
   "cell_type": "code",
   "execution_count": null,
   "metadata": {},
   "outputs": [],
   "source": [
    "# Write your code for dropping the rows here\n",
    "#checking for columns having percentage (greater than 5%) of Null values\n",
    "\n",
    "(100*(movies.isnull().sum(axis=0)/len(movies.index))>5)\n"
   ]
  },
  {
   "cell_type": "code",
   "execution_count": null,
   "metadata": {},
   "outputs": [],
   "source": [
    "# Drop NAN valus of the columns identified \n",
    "movies = movies[~np.isnan(movies['gross'])]\n",
    "movies = movies[~np.isnan(movies['budget'])]"
   ]
  },
  {
   "cell_type": "code",
   "execution_count": null,
   "metadata": {},
   "outputs": [],
   "source": [
    "#Check Percentage of null/ NAN values in the columns after dropping NAN values :\n",
    "(round(100*(movies.isnull().sum()/len(movies.index)), 2))"
   ]
  },
  {
   "cell_type": "markdown",
   "metadata": {},
   "source": [
    "-  ### Subtask 2.4: Fill NaN values\n",
    "\n",
    "You might notice that the `language` column has some NaN values. Here, on inspection, you will see that it is safe to replace all the missing values with `'English'`."
   ]
  },
  {
   "cell_type": "code",
   "execution_count": null,
   "metadata": {},
   "outputs": [],
   "source": [
    "# Write your code for filling the NaN values in the 'language' column here\n",
    "movies.loc[pd.isnull(movies['language']), ['language']]='English'"
   ]
  },
  {
   "cell_type": "code",
   "execution_count": null,
   "metadata": {},
   "outputs": [],
   "source": [
    "# Check Percentage of the columns after filling english language for the null places \n",
    "(round(100*(movies.isnull().sum()/len(movies.index)), 2))"
   ]
  },
  {
   "cell_type": "markdown",
   "metadata": {},
   "source": [
    "#   ### Subtask 2.5: Check the number of retained rows\n",
    "\n",
    "You might notice that two of the columns viz. `num_critic_for_reviews` and `actor_1_name` have small percentages of NaN values left. You can let these columns as it is for now. Check the number and percentage of the rows retained after completing all the tasks above."
   ]
  },
  {
   "cell_type": "code",
   "execution_count": null,
   "metadata": {},
   "outputs": [],
   "source": [
    "# Write your code for checking number of retained rows here\n",
    "len(movies.index)"
   ]
  },
  {
   "cell_type": "code",
   "execution_count": null,
   "metadata": {},
   "outputs": [],
   "source": [
    "int((len(movies.index)/5043)*100)"
   ]
  },
  {
   "cell_type": "markdown",
   "metadata": {},
   "source": [
    "#Number of rows retained : 3891 \n",
    "#Percentage of rows retained : 77 %\n"
   ]
  },
  {
   "cell_type": "markdown",
   "metadata": {},
   "source": [
    "**Checkpoint 1:** You might have noticed that we still have around `77%` of the rows!"
   ]
  },
  {
   "cell_type": "markdown",
   "metadata": {},
   "source": [
    "## Task 3: Data Analysis\n",
    "\n",
    "-  ### Subtask 3.1: Change the unit of columns\n",
    "\n",
    "Convert the unit of the `budget` and `gross` columns from `$` to `million $`."
   ]
  },
  {
   "cell_type": "code",
   "execution_count": null,
   "metadata": {},
   "outputs": [],
   "source": [
    "# Write your code for unit conversion here\n",
    "movies['gross'] = movies['gross']/1000000\n",
    "movies['budget'] = movies['budget']/1000000\n",
    "\n",
    "movies\n"
   ]
  },
  {
   "cell_type": "markdown",
   "metadata": {},
   "source": [
    "-  ### Subtask 3.2: Find the movies with highest profit\n",
    "\n",
    "    1. Create a new column called `profit` which contains the difference of the two columns: `gross` and `budget`.\n",
    "    2. Sort the dataframe using the `profit` column as reference.\n",
    "    3. Plot `profit` (y-axis) vs `budget` (x- axis) and observe the outliers using the appropriate chart type.\n",
    "    4. Extract the top ten profiting movies in descending order and store them in a new dataframe - `top10`"
   ]
  },
  {
   "cell_type": "code",
   "execution_count": null,
   "metadata": {},
   "outputs": [],
   "source": [
    "# Write your code for creating the profit column here\n",
    "movies['profit']=movies['gross']-movies['budget']\n",
    "\n",
    "movies\n"
   ]
  },
  {
   "cell_type": "code",
   "execution_count": null,
   "metadata": {},
   "outputs": [],
   "source": [
    "# Write your code for sorting the dataframe here\n",
    "movies.sort_values(by='profit',ascending=False)\n"
   ]
  },
  {
   "cell_type": "code",
   "execution_count": null,
   "metadata": {},
   "outputs": [],
   "source": [
    "# Write code for profit vs budget plot here\n",
    "\n",
    "\n",
    "a=movies.plot(kind='scatter',x='budget',y='profit',color='blue')\n",
    "a.set_title('Budget Vs Profit')\n",
    "\n",
    "plt.show()\n",
    "\n"
   ]
  },
  {
   "cell_type": "code",
   "execution_count": null,
   "metadata": {},
   "outputs": [],
   "source": [
    " # Write your code to get the top 10 profiting movies here\n",
    "top10 =movies.sort_values(by='profit',ascending=False)\n",
    "top10.head(10)"
   ]
  },
  {
   "cell_type": "markdown",
   "metadata": {},
   "source": [
    "-  ### Subtask 3.3: Drop duplicate values\n",
    "\n",
    "After you found out the top 10 profiting movies, you might have noticed a duplicate value. So, it seems like the dataframe has duplicate values as well. Drop the duplicate values from the dataframe and repeat `Subtask 3.2`. Note that the same `movie_title` can be there in different languages. "
   ]
  },
  {
   "cell_type": "code",
   "execution_count": null,
   "metadata": {},
   "outputs": [],
   "source": [
    "# Write your code for dropping duplicate values here\n",
    "\n",
    "movies.drop_duplicates(keep=False, inplace=True)\n",
    "movies"
   ]
  },
  {
   "cell_type": "code",
   "execution_count": null,
   "metadata": {},
   "outputs": [],
   "source": [
    "# Write code for repeating subtask 2 here\n",
    "\n",
    "movies.sort_values(by='profit',ascending=False).head(10)\n"
   ]
  },
  {
   "cell_type": "markdown",
   "metadata": {},
   "source": [
    "**Checkpoint 2:** You might spot two movies directed by `James Cameron` in the list."
   ]
  },
  {
   "cell_type": "markdown",
   "metadata": {},
   "source": [
    "spotted two movies by directed by `James Cameron` in the list."
   ]
  },
  {
   "cell_type": "markdown",
   "metadata": {},
   "source": [
    "-  ### Subtask 3.4: Find IMDb Top 250\n",
    "\n",
    "    1. Create a new dataframe `IMDb_Top_250` and store the top 250 movies with the highest IMDb Rating (corresponding to the column: `imdb_score`). Also make sure that for all of these movies, the `num_voted_users` is greater than 25,000.\n",
    "Also add a `Rank` column containing the values 1 to 250 indicating the ranks of the corresponding films.\n",
    "    2. Extract all the movies in the `IMDb_Top_250` dataframe which are not in the English language and store them in a new dataframe named `Top_Foreign_Lang_Film`."
   ]
  },
  {
   "cell_type": "code",
   "execution_count": null,
   "metadata": {},
   "outputs": [],
   "source": [
    "# Write your code for extracting the top 250 movies as per the IMDb score here. Make sure that you store it in a new dataframe \n",
    "# and name that dataframe as 'IMDb_Top_250'\n",
    "\n",
    "IMDB_Top_250 =movies[movies['num_voted_users']>25000]\n",
    "IMDB_Top_250.sort_values(by='imdb_score',ascending=False)\n",
    "IMDB_Top_250['rank'] = np.arange(len(IMDB_Top_250))\n",
    "\n",
    "\n",
    "IMDB_Top_250.head(250)"
   ]
  },
  {
   "cell_type": "code",
   "execution_count": null,
   "metadata": {},
   "outputs": [],
   "source": [
    " # Write your code to extract top foreign language films from 'IMDb_Top_250' here\n",
    "\n",
    "Top_Foreign_Lang_Film = IMDB_Top_250[IMDB_Top_250['language']!='English'] \n",
    "Top_Foreign_Lang_Film.sort_values(by='imdb_score',ascending=False).head(250)"
   ]
  },
  {
   "cell_type": "markdown",
   "metadata": {},
   "source": [
    "**Checkpoint 3:** Can you spot `Veer-Zaara` in the dataframe?"
   ]
  },
  {
   "cell_type": "markdown",
   "metadata": {},
   "source": [
    "Yes , I can spot  `Veer-Zaara` in the dataframe\n"
   ]
  },
  {
   "cell_type": "markdown",
   "metadata": {},
   "source": [
    "- ### Subtask 3.5: Find the best directors\n",
    "\n",
    "    1. Group the dataframe using the `director_name` column.\n",
    "    2. Find out the top 10 directors for whom the mean of `imdb_score` is the highest and store them in a new dataframe `top10director`.  Incase of a tie in IMDb score between two directors, sort them alphabetically. "
   ]
  },
  {
   "cell_type": "code",
   "execution_count": null,
   "metadata": {},
   "outputs": [],
   "source": [
    "# Write your code for extracting the top 10 directors here\n",
    "movies_by_dir=movies.groupby('director_name')\n",
    "mean_director=movies_by_dir['imdb_score'].mean()\n",
    "dir_top_ten=mean_director.sort_values(ascending=False).head(10)\n",
    "\n",
    "dir_top_ten"
   ]
  },
  {
   "cell_type": "markdown",
   "metadata": {},
   "source": [
    "**Checkpoint 4:** No surprises that `Damien Chazelle` (director of Whiplash and La La Land) is in this list."
   ]
  },
  {
   "cell_type": "markdown",
   "metadata": {},
   "source": [
    "-  ### Subtask 3.6: Find popular genres\n",
    "\n",
    "You might have noticed the `genres` column in the dataframe with all the genres of the movies seperated by a pipe (`|`). Out of all the movie genres, the first two are most significant for any film.\n",
    "\n",
    "1. Extract the first two genres from the `genres` column and store them in two new columns: `genre_1` and `genre_2`. Some of the movies might have only one genre. In such cases, extract the single genre into both the columns, i.e. for such movies the `genre_2` will be the same as `genre_1`.\n",
    "2. Group the dataframe using `genre_1` as the primary column and `genre_2` as the secondary column.\n",
    "3. Find out the 5 most popular combo of genres by finding the mean of the gross values using the `gross` column and store them in a new dataframe named `PopGenre`."
   ]
  },
  {
   "cell_type": "code",
   "execution_count": null,
   "metadata": {},
   "outputs": [],
   "source": [
    "# Write your code for extracting the first two genres of each movie here\n",
    "genrenew = movies[\"genres\"].str.split(\"|\", n = 2, expand = True) \n",
    "movies['genre_1']= genrenew[0]\n",
    "movies['genre_2']=genrenew[1]\n",
    "movies.loc[pd.isnull(movies['genre_2']), ['genre_2']] = movies['genre_1']\n",
    "movies"
   ]
  },
  {
   "cell_type": "code",
   "execution_count": null,
   "metadata": {},
   "outputs": [],
   "source": [
    "# Write your code for grouping the dataframe here\n",
    "\n",
    "#group by two Genre present in the movies data frame and find the mean of the genres by gross\n",
    "\n",
    "movies_by_segment =movies.groupby(['genre_1', 'genre_2'])\n",
    "movies_by_segment=movies_by_segment['gross'].mean()\n",
    "\n",
    "movies_by_segment"
   ]
  },
  {
   "cell_type": "code",
   "execution_count": null,
   "metadata": {},
   "outputs": [],
   "source": [
    "#the Moviesegement grouped is sorted \n",
    "PopGenre =movies_by_segment.sort_values(ascending=False)\n",
    "PopGenre.head(5)"
   ]
  },
  {
   "cell_type": "markdown",
   "metadata": {},
   "source": [
    "**Checkpoint 5:** Well, as it turns out. `Family + Sci-Fi` is the most popular combo of genres out there!"
   ]
  },
  {
   "cell_type": "markdown",
   "metadata": {},
   "source": [
    "-  ### Subtask 3.7: Find the critic-favorite and audience-favorite actors\n",
    "\n",
    "    1. Create three new dataframes namely, `Meryl_Streep`, `Leo_Caprio`, and `Brad_Pitt` which contain the movies in which the actors: 'Meryl Streep', 'Leonardo DiCaprio', and 'Brad Pitt' are the lead actors. Use only the `actor_1_name` column for extraction. Also, make sure that you use the names 'Meryl Streep', 'Leonardo DiCaprio', and 'Brad Pitt' for the said extraction.\n",
    "    2. Append the rows of all these dataframes and store them in a new dataframe named `Combined`.\n",
    "    3. Group the combined dataframe using the `actor_1_name` column.\n",
    "    4. Find the mean of the `num_critic_for_reviews` and `num_users_for_review` and identify the actors which have the highest mean.\n",
    "    5. Observe the change in number of voted users over decades using a bar chart. Create a column called `decade` which represents the decade to which every movie belongs to. For example, the  `title_year`  year 1923, 1925 should be stored as 1920s. Sort the dataframe based on the column `decade`, group it by `decade` and find the sum of users voted in each decade. Store this in a new data frame called `df_by_decade`."
   ]
  },
  {
   "cell_type": "code",
   "execution_count": null,
   "metadata": {},
   "outputs": [],
   "source": [
    "# Write your code for creating three new dataframes here\n",
    "#dataframe for Meryl Streep\n",
    "Meryl_Streep = movies[movies.actor_1_name == 'Meryl Streep']\n",
    "\n",
    "Meryl_Streep"
   ]
  },
  {
   "cell_type": "code",
   "execution_count": null,
   "metadata": {},
   "outputs": [],
   "source": [
    "#Data from for Leo_Caprio\n",
    "Leo_Caprio = movies[movies.actor_1_name == 'Leonardo DiCaprio']\n",
    "Leo_Caprio"
   ]
  },
  {
   "cell_type": "code",
   "execution_count": null,
   "metadata": {},
   "outputs": [],
   "source": [
    "Brad_Pitt = movies[movies.actor_1_name == 'Brad Pitt']\n",
    "Brad_Pitt "
   ]
  },
  {
   "cell_type": "code",
   "execution_count": null,
   "metadata": {},
   "outputs": [],
   "source": [
    "# Write your code for combining the three dataframes here\n",
    "actor_group1 = pd.concat([Meryl_Streep, Leo_Caprio], axis = 0)\n",
    "actor_group2 = pd.concat( [actor_group1, Brad_Pitt], axis = 0)\n",
    "actor_group2"
   ]
  },
  {
   "cell_type": "code",
   "execution_count": null,
   "metadata": {},
   "outputs": [],
   "source": [
    "# Write your code for grouping the combined dataframe here\n",
    "combinedactor =actor_group2.groupby(['actor_1_name'])\n",
    "combinedactor\n",
    "\n"
   ]
  },
  {
   "cell_type": "code",
   "execution_count": null,
   "metadata": {},
   "outputs": [],
   "source": [
    "# Write the code for finding the mean of critic reviews and audience reviews here\n",
    "critic_reviews=combinedactor['num_critic_for_reviews'].mean()\n",
    "critic_reviews.sort_values(ascending=False)\n",
    " \n",
    "audience_reviews=combinedactor['num_voted_users'].mean()\n",
    " \n",
    "audience_reviews.sort_values(ascending=False)"
   ]
  },
  {
   "cell_type": "markdown",
   "metadata": {},
   "source": [
    "**Checkpoint 6:** `Leonardo` has aced both the lists! - 'Yes'"
   ]
  },
  {
   "cell_type": "code",
   "execution_count": null,
   "metadata": {},
   "outputs": [],
   "source": [
    "# Write the code for calculating decade here\n",
    "movies['decade'] = (movies['title_year'] - movies['title_year']%10).astype(int)\n",
    "movies"
   ]
  },
  {
   "cell_type": "code",
   "execution_count": null,
   "metadata": {},
   "outputs": [],
   "source": [
    "# Write your code for creating the data frame df_by_decade here \n",
    "df_by_decade = movies.groupby([\"decade\"])\n",
    "df_by_decade=df_by_decade[\"num_voted_users\"].sum().reset_index().sort_values([\"decade\"])\n",
    "\n",
    "df_by_decade"
   ]
  },
  {
   "cell_type": "code",
   "execution_count": null,
   "metadata": {},
   "outputs": [],
   "source": [
    "# Write your code for plotting number of voted users vs decade\n",
    "\n",
    "b=df_by_decade.plot(kind='bar',x='decade',y='num_voted_users')\n",
    "b.set_title('number of voted users vs decade')\n",
    "plt.yscale('log')\n",
    "plt.show()"
   ]
  },
  {
   "cell_type": "code",
   "execution_count": null,
   "metadata": {},
   "outputs": [],
   "source": []
  }
 ],
 "metadata": {
  "kernelspec": {
   "display_name": "Python 3",
   "language": "python",
   "name": "python3"
  },
  "language_info": {
   "codemirror_mode": {
    "name": "ipython",
    "version": 3
   },
   "file_extension": ".py",
   "mimetype": "text/x-python",
   "name": "python",
   "nbconvert_exporter": "python",
   "pygments_lexer": "ipython3",
   "version": "3.7.6"
  }
 },
 "nbformat": 4,
 "nbformat_minor": 2
}
